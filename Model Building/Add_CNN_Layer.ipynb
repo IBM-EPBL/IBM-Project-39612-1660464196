{
  "nbformat": 4,
  "nbformat_minor": 0,
  "metadata": {
    "colab": {
      "provenance": []
    },
    "kernelspec": {
      "name": "python3",
      "display_name": "Python 3"
    },
    "language_info": {
      "name": "python"
    }
  },
  "cells": [
    {
      "cell_type": "markdown",
      "source": [],
      "metadata": {
        "id": "F1T-Af53XF1n"
      }
    },
    {
      "cell_type": "code",
      "execution_count": null,
      "metadata": {
        "id": "fMhoxcwmWnXD"
      },
      "outputs": [],
      "source": [
        "import numpy as np\n",
        "import tensorflow #open source used for both ML and DL for computation\n",
        "from tensorflow.keras.datasets import mnist #mnist dataset\n",
        "from tensorflow.keras.models import Sequential #it is a plain stack of layers\n",
        "from tensorflow.keras import layers #A Layer consists of a tensor- in tensor-out computat ion funct ion\n",
        "from tensorflow.keras.layers import Dense, Flatten #Dense-Dense Layer is the regular deeply connected r\n",
        "#faltten -used fot flattening the input or change the dimension\n",
        "from tensorflow.keras.layers import Conv2D #onvoLutiona l Layer\n",
        "from keras.optimizers import Adam #opt imizer\n",
        "from keras. utils import np_utils #used for one-hot encoding\n",
        "import matplotlib.pyplot as plt   #used for data visualization"
      ]
    },
    {
      "cell_type": "markdown",
      "source": [
        "Load the Data"
      ],
      "metadata": {
        "id": "O0c7VFPsXSNV"
      }
    },
    {
      "cell_type": "code",
      "source": [
        "(X_train, y_train), (X_test, y_test) = mnist.load_data()"
      ],
      "metadata": {
        "id": "TmqMxh3UXW4W"
      },
      "execution_count": null,
      "outputs": []
    },
    {
      "cell_type": "markdown",
      "source": [
        "Data Pre-Processing "
      ],
      "metadata": {
        "id": "HCqk34xnY_v0"
      }
    },
    {
      "cell_type": "code",
      "source": [
        "X_train=X_train.reshape (60000, 28, 28, 1).astype('float32')\n",
        "X_test=X_test.reshape (10000, 28, 28, 1).astype ('float32')\n",
        "number_of_classes = 10\n",
        "Y_train = np_utils.to_categorical(y_train, number_of_classes)\n",
        "Y_test = np_utils.to_categorical(y_test, number_of_classes)"
      ],
      "metadata": {
        "id": "CQFq_4uNZ74n"
      },
      "execution_count": null,
      "outputs": []
    },
    {
      "cell_type": "code",
      "source": [
        "Y_train[888]"
      ],
      "metadata": {
        "colab": {
          "base_uri": "https://localhost:8080/"
        },
        "id": "YrZlnhqdaQ44",
        "outputId": "841df044-e7c9-4f90-919c-34df036597c7"
      },
      "execution_count": null,
      "outputs": [
        {
          "output_type": "execute_result",
          "data": {
            "text/plain": [
              "array([0., 0., 0., 0., 0., 0., 0., 1., 0., 0.], dtype=float32)"
            ]
          },
          "metadata": {},
          "execution_count": 30
        }
      ]
    },
    {
      "cell_type": "markdown",
      "source": [
        "Add CNN Layer"
      ],
      "metadata": {
        "id": "f3TjeRGoe5Ld"
      }
    },
    {
      "cell_type": "code",
      "source": [
        "#Create the Model\n",
        "model=Sequential ()"
      ],
      "metadata": {
        "id": "1nTGl-g9e3tc"
      },
      "execution_count": null,
      "outputs": []
    },
    {
      "cell_type": "code",
      "source": [
        "#adding modeL Layer\n",
        "model.add(Conv2D(64, (3, 3), input_shape=(28, 28, 1), activation='relu'))\n",
        "model.add(Conv2D(32, (3, 3), activation = 'relu'))"
      ],
      "metadata": {
        "id": "Q-ZK0aysfBeb"
      },
      "execution_count": null,
      "outputs": []
    },
    {
      "cell_type": "code",
      "source": [
        "#flatten the dimension of the image\n",
        "model.add(Flatten())\n",
        "#output layer with 10 neurons\n",
        "model.add(Dense(number_of_classes,activation = 'softmax'))"
      ],
      "metadata": {
        "id": "8_jmWoonfLZ9"
      },
      "execution_count": null,
      "outputs": []
    },
    {
      "cell_type": "markdown",
      "source": [
        " \n",
        " \n",
        " \n",
        " \n",
        " \n",
        " \n",
        " \n",
        " \n",
        " \n",
        "Compiling The Model"
      ],
      "metadata": {
        "id": "nN8DkVAbfSlF"
      }
    },
    {
      "cell_type": "code",
      "source": [
        "model.compile(loss='categorical_crossentropy', optimizer=\"Adam\", metrics=[\"accuracy\"])"
      ],
      "metadata": {
        "id": "3oTdOe4XfPos"
      },
      "execution_count": null,
      "outputs": []
    },
    {
      "cell_type": "code",
      "source": [
        "model.fit(X_train, Y_train, batch_size=32, epochs=5, validation_data=(X_test,Y_test))"
      ],
      "metadata": {
        "colab": {
          "base_uri": "https://localhost:8080/"
        },
        "id": "RqdgYwMXg63w",
        "outputId": "0bc798b2-bdbe-4643-9939-2b7d1ac4cb99"
      },
      "execution_count": null,
      "outputs": [
        {
          "output_type": "stream",
          "name": "stdout",
          "text": [
            "Epoch 1/5\n",
            "1875/1875 [==============================] - 193s 102ms/step - loss: 0.2747 - accuracy: 0.9462 - val_loss: 0.1106 - val_accuracy: 0.9663\n",
            "Epoch 2/5\n",
            "1875/1875 [==============================] - 192s 102ms/step - loss: 0.0763 - accuracy: 0.9770 - val_loss: 0.0830 - val_accuracy: 0.9732\n",
            "Epoch 3/5\n",
            "1875/1875 [==============================] - 193s 103ms/step - loss: 0.0533 - accuracy: 0.9833 - val_loss: 0.1066 - val_accuracy: 0.9691\n",
            "Epoch 4/5\n",
            "1875/1875 [==============================] - 192s 103ms/step - loss: 0.0404 - accuracy: 0.9876 - val_loss: 0.0918 - val_accuracy: 0.9737\n",
            "Epoch 5/5\n",
            "1875/1875 [==============================] - 193s 103ms/step - loss: 0.0333 - accuracy: 0.9894 - val_loss: 0.1098 - val_accuracy: 0.9733\n"
          ]
        },
        {
          "output_type": "execute_result",
          "data": {
            "text/plain": [
              "<keras.callbacks.History at 0x7fb9850b6290>"
            ]
          },
          "metadata": {},
          "execution_count": 36
        }
      ]
    },
    {
      "cell_type": "markdown",
      "source": [
        "Test the Model"
      ],
      "metadata": {
        "id": "eVfhQ9OjkyqG"
      }
    },
    {
      "cell_type": "code",
      "source": [
        "metrics = model.evaluate(X_test, Y_test, verbose=0)\n",
        "print(\"Metrics (Test Loss & Test Accuracy): \")\n",
        "print(metrics)"
      ],
      "metadata": {
        "colab": {
          "base_uri": "https://localhost:8080/"
        },
        "id": "H7nNdPPig7vw",
        "outputId": "84c8fd06-df06-4b02-ff31-cf2da0963c5a"
      },
      "execution_count": null,
      "outputs": [
        {
          "output_type": "stream",
          "name": "stdout",
          "text": [
            "Metrics (Test Loss & Test Accuracy): \n",
            "[0.1098330095410347, 0.9732999801635742]\n"
          ]
        }
      ]
    },
    {
      "cell_type": "code",
      "source": [
        "prediction=model.predict(X_test[6000:6007])\n",
        "print(prediction)"
      ],
      "metadata": {
        "colab": {
          "base_uri": "https://localhost:8080/"
        },
        "id": "_BpvofsjlNB-",
        "outputId": "c99512a8-6304-4da3-a3f9-4b4534d3d11b"
      },
      "execution_count": null,
      "outputs": [
        {
          "output_type": "stream",
          "name": "stdout",
          "text": [
            "1/1 [==============================] - 0s 26ms/step\n",
            "[[5.8028406e-16 6.0908377e-18 5.3280164e-15 1.7032078e-09 1.5333529e-07\n",
            "  2.5937838e-10 7.3504640e-16 2.0802499e-06 4.4689141e-09 9.9999774e-01]\n",
            " [4.6930425e-03 2.6736107e-06 5.1415685e-05 2.8996649e-06 3.6830591e-11\n",
            "  1.5965476e-05 5.1742398e-07 2.9544536e-10 9.9510264e-01 1.3079790e-04]\n",
            " [1.2195903e-10 8.2684917e-09 1.4382446e-12 4.1655465e-10 5.1632537e-07\n",
            "  1.4045388e-07 9.9999940e-01 2.0163050e-15 4.1881766e-08 7.5915203e-12]\n",
            " [9.9995303e-01 2.1252743e-12 3.9191577e-06 2.0184658e-08 3.3402857e-13\n",
            "  1.9101368e-07 2.9537131e-09 8.5483351e-13 5.6683834e-06 3.7114671e-05]\n",
            " [1.1165393e-07 3.0429690e-11 5.8592873e-09 1.1337650e-04 6.3033062e-06\n",
            "  2.3419200e-03 4.1620038e-05 6.1424394e-08 1.0467838e-01 8.9281815e-01]\n",
            " [5.5297202e-21 1.0000000e+00 2.1706649e-12 6.8361359e-14 2.8971048e-10\n",
            "  1.7955520e-10 2.1375397e-14 3.2710622e-17 1.6486626e-10 7.8509945e-19]\n",
            " [2.5148014e-11 8.9673289e-05 1.7767622e-08 3.0850337e-05 3.9560572e-08\n",
            "  2.8611119e-08 5.0441113e-15 9.9964166e-01 1.0078229e-06 2.3672878e-04]]\n"
          ]
        }
      ]
    },
    {
      "cell_type": "code",
      "source": [
        "print(numpy.argmax(prediction, axis=1))\n",
        "print(Y_test[:4])"
      ],
      "metadata": {
        "colab": {
          "base_uri": "https://localhost:8080/"
        },
        "id": "IF_a-BrQlPON",
        "outputId": "6fc2a861-f027-446c-dcc6-a57cd7ef48ee"
      },
      "execution_count": null,
      "outputs": [
        {
          "output_type": "stream",
          "name": "stdout",
          "text": [
            "[9 8 6 0 9 1 7]\n",
            "[[0. 0. 0. 0. 0. 0. 0. 1. 0. 0.]\n",
            " [0. 0. 1. 0. 0. 0. 0. 0. 0. 0.]\n",
            " [0. 1. 0. 0. 0. 0. 0. 0. 0. 0.]\n",
            " [1. 0. 0. 0. 0. 0. 0. 0. 0. 0.]]\n"
          ]
        }
      ]
    },
    {
      "cell_type": "markdown",
      "source": [
        "Save the Model"
      ],
      "metadata": {
        "id": "hlddSGkgl4rn"
      }
    },
    {
      "cell_type": "code",
      "source": [
        "model.save('models/mnistCNN.h5')"
      ],
      "metadata": {
        "id": "qmuy4XRKlqPm"
      },
      "execution_count": null,
      "outputs": []
    },
    {
      "cell_type": "code",
      "source": [],
      "metadata": {
        "id": "njf19O_ul9kg"
      },
      "execution_count": null,
      "outputs": []
    }
  ]
}