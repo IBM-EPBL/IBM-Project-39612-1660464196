{
  "nbformat": 4,
  "nbformat_minor": 0,
  "metadata": {
    "colab": {
      "provenance": []
    },
    "kernelspec": {
      "name": "python3",
      "display_name": "Python 3"
    },
    "language_info": {
      "name": "python"
    }
  },
  "cells": [
    {
      "cell_type": "code",
      "execution_count": null,
      "metadata": {
        "id": "_WWKtY-vO0Ws"
      },
      "outputs": [],
      "source": [
        "import numpy as np\n",
        "import pandas as pd\n",
        "import matplotlib.pyplot as plt\n",
        "from keras.utils import np_utils\n",
        "from tensorflow.keras.datasets import mnist\n",
        "from tensorflow.keras.models import Sequential\n",
        "from tensorflow.keras.layers import Conv2D, Dense, Flatten\n",
        "from tensorflow.keras.optimizers import Adam\n",
        "from tensorflow.keras.models import load_model\n",
        "from PIL import Image, ImageOps\n",
        "import numpy"
      ]
    },
    {
      "cell_type": "code",
      "source": [
        "(X_train, y_train), (X_test, y_test) = mnist.load_data()"
      ],
      "metadata": {
        "colab": {
          "base_uri": "https://localhost:8080/"
        },
        "id": "On_I9mQ4O6bQ",
        "outputId": "c3dcc713-b4b6-4f48-d735-5fbce073569b"
      },
      "execution_count": null,
      "outputs": [
        {
          "output_type": "stream",
          "name": "stdout",
          "text": [
            "Downloading data from https://storage.googleapis.com/tensorflow/tf-keras-datasets/mnist.npz\n",
            "11490434/11490434 [==============================] - 0s 0us/step\n"
          ]
        }
      ]
    },
    {
      "cell_type": "code",
      "source": [
        "print(X_train.shape)\n",
        "print(X_test.shape)"
      ],
      "metadata": {
        "colab": {
          "base_uri": "https://localhost:8080/"
        },
        "id": "CZKfIofXPCtA",
        "outputId": "2751b399-7ece-4003-dec9-796d0c80c948"
      },
      "execution_count": null,
      "outputs": [
        {
          "output_type": "stream",
          "name": "stdout",
          "text": [
            "(60000, 28, 28)\n",
            "(10000, 28, 28)\n"
          ]
        }
      ]
    },
    {
      "cell_type": "code",
      "source": [
        "X_train[2345]"
      ],
      "metadata": {
        "colab": {
          "base_uri": "https://localhost:8080/"
        },
        "id": "bkDyrRGqPDPc",
        "outputId": "b1210953-e966-4254-8b2a-855f04d5b68a"
      },
      "execution_count": null,
      "outputs": [
        {
          "output_type": "execute_result",
          "data": {
            "text/plain": [
              "array([[  0,   0,   0,   0,   0,   0,   0,   0,   0,   0,   0,   0,   0,\n",
              "          0,   0,   0,   0,   0,   0,   0,   0,   0,   0,   0,   0,   0,\n",
              "          0,   0],\n",
              "       [  0,   0,   0,   0,   0,   0,   0,   0,   0,   0,   0,   0,   0,\n",
              "          0,   0,   0,   0,   0,   0,   0,   0,   0,   0,   0,   0,   0,\n",
              "          0,   0],\n",
              "       [  0,   0,   0,   0,   0,   0,   0,   0,   0,   0,   0,   0,   0,\n",
              "          0,   0,   0,   0,  22, 183, 236,   0,   0,   0,   0,   0,   0,\n",
              "          0,   0],\n",
              "       [  0,   0,   0,   0,   0,   0,   0,   0,   0,   0,   0,   0,   0,\n",
              "          0,   0,   0,   0, 162, 252, 147,   0,   0,   0,   0,   0,   0,\n",
              "          0,   0],\n",
              "       [  0,   0,   0,   0,   0,   0,   0,   0,   0,   0,   0,   0,   0,\n",
              "          0,   0,   4, 136, 251, 247,  47,   0,   0,   0,   0,   0,   0,\n",
              "          0,   0],\n",
              "       [  0,   0,   0,   0,   0,   0,   0,   0,   0,   0,   0,   0,   0,\n",
              "          0,   0, 139, 252, 252, 119,   0,   0,   0,   0,   0,   0,   0,\n",
              "          0,   0],\n",
              "       [  0,   0,   0,   0,   0,   0,   0,   0,   0,   0,   0,   0,   0,\n",
              "          0, 132, 253, 252, 190,  14,   0,   0,   0,   0,   0,   0,   0,\n",
              "          0,   0],\n",
              "       [  0,   0,   0,   0,   0,   0,   0,   0,   0,   0,   0,   0,   4,\n",
              "        114, 236, 254, 239,  62,   0,   0,   0,   0,   0,   0,   0,   0,\n",
              "          0,   0],\n",
              "       [  0,   0,   0,   0,   0,   0,   0,   0,   0,   0,   0,   0,  92,\n",
              "        252, 252, 239, 112,   0,   0,   0,   0,   0,   0,   0,   0,   0,\n",
              "          0,   0],\n",
              "       [  0,   0,   0,   0,   0,   0,   0,   0,   0,   0,   0,  16, 234,\n",
              "        252, 252, 149,   0,   0,   0,   0,   0,   0,   0,   0,   0,   0,\n",
              "          0,   0],\n",
              "       [  0,   0,   0,   0,   0,   0,   0,   0,   0,   0,  38, 206, 252,\n",
              "        252, 199,   0,   0,   0,   0,   0,   0,   0,   0,   0,   0,   0,\n",
              "          0,   0],\n",
              "       [  0,   0,   0,   0,   0,   0,   0,   0,   0,   0, 192, 252, 252,\n",
              "        226,  24,   0,   0,   9, 176, 124, 194, 106,   9,   0,   0,   0,\n",
              "          0,   0],\n",
              "       [  0,   0,   0,   0,   0,   0,   0,   0,   0, 107, 254, 253, 253,\n",
              "         84,   0,   0,  50, 245, 253, 253, 255, 218,  92,   0,   0,   0,\n",
              "          0,   0],\n",
              "       [  0,   0,   0,   0,   0,   0,   0,   0,  22, 199, 253, 252, 201,\n",
              "         21,   0,  15, 185, 252, 252, 173,  95, 252, 231,   0,   0,   0,\n",
              "          0,   0],\n",
              "       [  0,   0,   0,   0,   0,   0,   0,   0, 160, 252, 253, 210,  19,\n",
              "          0,   9, 237, 252, 251,  91,  12,  87, 252, 187,   0,   0,   0,\n",
              "          0,   0],\n",
              "       [  0,   0,   0,   0,   0,   0,   0,  41, 225, 252, 243,  82,   0,\n",
              "          0, 132, 253, 252,  91,   0,   0,  43, 252, 231,   0,   0,   0,\n",
              "          0,   0],\n",
              "       [  0,   0,   0,   0,   0,   0,   0, 171, 252, 252, 211,   0,   0,\n",
              "         54, 246, 253, 182,   4,   0,   0, 175, 252, 231,   0,   0,   0,\n",
              "          0,   0],\n",
              "       [  0,   0,   0,   0,   0,   0,   0, 233, 253, 209,   0,   0,   9,\n",
              "        204, 253, 212,   0,   0,  38, 192, 255, 253,  21,   0,   0,   0,\n",
              "          0,   0],\n",
              "       [  0,   0,   0,   0,   0,   0,  64, 247, 252, 173,   0,   0, 131,\n",
              "        232, 252, 181, 121, 190, 206, 252, 239,  89,   5,   0,   0,   0,\n",
              "          0,   0],\n",
              "       [  0,   0,   0,   0,   0,   0,  85, 252, 252, 244, 233, 232, 251,\n",
              "        252, 252, 253, 252, 252, 167,  82,  17,   0,   0,   0,   0,   0,\n",
              "          0,   0],\n",
              "       [  0,   0,   0,   0,   0,   0,  64, 247, 252, 252, 253, 252, 252,\n",
              "        252, 252, 243, 189, 136,  28,   0,   0,   0,   0,   0,   0,   0,\n",
              "          0,   0],\n",
              "       [  0,   0,   0,   0,   0,   0,   0, 144, 252, 252, 253, 252, 252,\n",
              "        252, 208,  35,   0,   0,   0,   0,   0,   0,   0,   0,   0,   0,\n",
              "          0,   0],\n",
              "       [  0,   0,   0,   0,   0,   0,   0,   0,   0,   0,   0,   0,   0,\n",
              "          0,   0,   0,   0,   0,   0,   0,   0,   0,   0,   0,   0,   0,\n",
              "          0,   0],\n",
              "       [  0,   0,   0,   0,   0,   0,   0,   0,   0,   0,   0,   0,   0,\n",
              "          0,   0,   0,   0,   0,   0,   0,   0,   0,   0,   0,   0,   0,\n",
              "          0,   0],\n",
              "       [  0,   0,   0,   0,   0,   0,   0,   0,   0,   0,   0,   0,   0,\n",
              "          0,   0,   0,   0,   0,   0,   0,   0,   0,   0,   0,   0,   0,\n",
              "          0,   0],\n",
              "       [  0,   0,   0,   0,   0,   0,   0,   0,   0,   0,   0,   0,   0,\n",
              "          0,   0,   0,   0,   0,   0,   0,   0,   0,   0,   0,   0,   0,\n",
              "          0,   0],\n",
              "       [  0,   0,   0,   0,   0,   0,   0,   0,   0,   0,   0,   0,   0,\n",
              "          0,   0,   0,   0,   0,   0,   0,   0,   0,   0,   0,   0,   0,\n",
              "          0,   0],\n",
              "       [  0,   0,   0,   0,   0,   0,   0,   0,   0,   0,   0,   0,   0,\n",
              "          0,   0,   0,   0,   0,   0,   0,   0,   0,   0,   0,   0,   0,\n",
              "          0,   0]], dtype=uint8)"
            ]
          },
          "metadata": {},
          "execution_count": 4
        }
      ]
    },
    {
      "cell_type": "code",
      "source": [
        "y_train[2345]"
      ],
      "metadata": {
        "colab": {
          "base_uri": "https://localhost:8080/"
        },
        "id": "GSJACWciPGS3",
        "outputId": "fdcb7fc4-0dc4-4c3c-ec97-d53e0e42f54a"
      },
      "execution_count": null,
      "outputs": [
        {
          "output_type": "execute_result",
          "data": {
            "text/plain": [
              "6"
            ]
          },
          "metadata": {},
          "execution_count": 5
        }
      ]
    },
    {
      "cell_type": "code",
      "source": [
        "plt.imshow(X_train[2345])\n"
      ],
      "metadata": {
        "colab": {
          "base_uri": "https://localhost:8080/",
          "height": 282
        },
        "id": "YsCdMwICPK4q",
        "outputId": "ce81ec29-7683-4c51-d6bf-7ca12784102f"
      },
      "execution_count": null,
      "outputs": [
        {
          "output_type": "execute_result",
          "data": {
            "text/plain": [
              "<matplotlib.image.AxesImage at 0x7fb9126fba50>"
            ]
          },
          "metadata": {},
          "execution_count": 6
        },
        {
          "output_type": "display_data",
          "data": {
            "text/plain": [
              "<Figure size 432x288 with 1 Axes>"
            ],
            "image/png": "[encoded data removed]"
          },
          "metadata": {
            "needs_background": "light"
          }
        }
      ]
    },
    {
      "cell_type": "code",
      "source": [
        "X_train = X_train.reshape(60000, 28, 28, 1).astype('float32')\n",
        "X_test = X_test.reshape(10000, 28, 28, 1).astype('float32')"
      ],
      "metadata": {
        "id": "uIFq0SVAPOyp"
      },
      "execution_count": null,
      "outputs": []
    },
    {
      "cell_type": "code",
      "source": [
        "number_of_classes = 10\n",
        "Y_train = np_utils.to_categorical(y_train, number_of_classes)\n",
        "Y_test = np_utils.to_categorical(y_test, number_of_classes)"
      ],
      "metadata": {
        "id": "wGk1ymb7PRyb"
      },
      "execution_count": null,
      "outputs": []
    },
    {
      "cell_type": "code",
      "source": [
        "Y_train[2345]"
      ],
      "metadata": {
        "colab": {
          "base_uri": "https://localhost:8080/"
        },
        "id": "d-9SqcIfPTc0",
        "outputId": "88e9463c-d847-446a-b375-faac98b2761c"
      },
      "execution_count": null,
      "outputs": [
        {
          "output_type": "execute_result",
          "data": {
            "text/plain": [
              "array([0., 0., 0., 0., 0., 0., 1., 0., 0., 0.], dtype=float32)"
            ]
          },
          "metadata": {},
          "execution_count": 9
        }
      ]
    },
    {
      "cell_type": "code",
      "source": [
        "model = Sequential()\n",
        "model.add(Conv2D(64, (3, 3), input_shape=(28, 28, 1), activation=\"relu\"))\n",
        "model.add(Conv2D(32, (3, 3), activation=\"relu\"))\n",
        "model.add(Flatten())\n",
        "model.add(Dense(number_of_classes, activation=\"softmax\"))"
      ],
      "metadata": {
        "id": "xVKpt1cXPW1f"
      },
      "execution_count": null,
      "outputs": []
    },
    {
      "cell_type": "code",
      "source": [
        "model.compile(loss='categorical_crossentropy', optimizer=\"Adam\", metrics=[\"accuracy\"])"
      ],
      "metadata": {
        "id": "62YAdYtHPamp"
      },
      "execution_count": null,
      "outputs": []
    },
    {
      "cell_type": "code",
      "source": [
        "model.fit(X_train, Y_train, batch_size=32, epochs=5, validation_data=(X_test,Y_test))"
      ],
      "metadata": {
        "colab": {
          "base_uri": "https://localhost:8080/"
        },
        "id": "snx34MchPkuY",
        "outputId": "6b82429a-e955-4d8e-bab8-9ce6ac9a172a"
      },
      "execution_count": null,
      "outputs": [
        {
          "output_type": "stream",
          "name": "stdout",
          "text": [
            "Epoch 1/5\n",
            "1875/1875 [==============================] - 202s 107ms/step - loss: 0.1878 - accuracy: 0.9546 - val_loss: 0.0766 - val_accuracy: 0.9760\n",
            "Epoch 2/5\n",
            "1875/1875 [==============================] - 195s 104ms/step - loss: 0.0651 - accuracy: 0.9802 - val_loss: 0.0753 - val_accuracy: 0.9776\n",
            "Epoch 3/5\n",
            "1875/1875 [==============================] - 195s 104ms/step - loss: 0.0443 - accuracy: 0.9861 - val_loss: 0.0909 - val_accuracy: 0.9757\n",
            "Epoch 4/5\n",
            "1875/1875 [==============================] - 194s 104ms/step - loss: 0.0357 - accuracy: 0.9888 - val_loss: 0.1030 - val_accuracy: 0.9764\n",
            "Epoch 5/5\n",
            "1875/1875 [==============================] - 194s 104ms/step - loss: 0.0274 - accuracy: 0.9913 - val_loss: 0.1330 - val_accuracy: 0.9733\n"
          ]
        },
        {
          "output_type": "execute_result",
          "data": {
            "text/plain": [
              "<keras.callbacks.History at 0x7fb90dee3310>"
            ]
          },
          "metadata": {},
          "execution_count": 12
        }
      ]
    },
    {
      "cell_type": "code",
      "source": [
        "metrics = model.evaluate(X_test, Y_test, verbose=0)\n",
        "print(\"Metrics (Test Loss & Test Accuracy): \")\n",
        "print(metrics)"
      ],
      "metadata": {
        "colab": {
          "base_uri": "https://localhost:8080/"
        },
        "id": "2f29dF2hPnC7",
        "outputId": "6f6b4f8b-8b67-4fbd-d4f3-959509526f74"
      },
      "execution_count": null,
      "outputs": [
        {
          "output_type": "stream",
          "name": "stdout",
          "text": [
            "Metrics (Test Loss & Test Accuracy): \n",
            "[0.13301759958267212, 0.9732999801635742]\n"
          ]
        }
      ]
    },
    {
      "cell_type": "code",
      "source": [
        "prediction = model.predict(X_test[:4])\n",
        "print(prediction)"
      ],
      "metadata": {
        "colab": {
          "base_uri": "https://localhost:8080/"
        },
        "id": "HYzLpyzGUobs",
        "outputId": "f5ed7693-d555-4d09-9bea-e87c3c69f8f5"
      },
      "execution_count": null,
      "outputs": [
        {
          "output_type": "stream",
          "name": "stdout",
          "text": [
            "1/1 [==============================] - 0s 95ms/step\n",
            "[[2.54362666e-13 1.16115720e-24 4.18503621e-10 4.73483863e-10\n",
            "  1.74469432e-23 1.40236614e-16 1.41292741e-25 1.00000000e+00\n",
            "  2.59354395e-16 1.04449240e-12]\n",
            " [1.59409519e-12 8.86234360e-17 1.00000000e+00 1.08378315e-11\n",
            "  1.52109661e-19 3.05510637e-21 7.10675225e-13 1.23514888e-18\n",
            "  8.41517979e-19 1.57027298e-20]\n",
            " [6.02908223e-10 9.99978542e-01 1.86670168e-05 1.70294134e-09\n",
            "  6.94075254e-07 4.58379361e-08 8.07797051e-07 4.10770884e-09\n",
            "  1.32751563e-06 2.06527284e-09]\n",
            " [9.99995470e-01 8.88864940e-16 3.07005810e-10 5.82073105e-12\n",
            "  1.01750205e-11 3.74563526e-13 4.14413444e-06 1.01946993e-11\n",
            "  2.25080964e-15 3.20657279e-07]]\n"
          ]
        }
      ]
    },
    {
      "cell_type": "code",
      "source": [
        "print(numpy.argmax(prediction, axis=1))\n",
        "print(Y_test[:4])"
      ],
      "metadata": {
        "colab": {
          "base_uri": "https://localhost:8080/"
        },
        "id": "DjpG_mveUrwx",
        "outputId": "f10b68bf-2dd1-4cf1-de8d-9d2338ab38ca"
      },
      "execution_count": null,
      "outputs": [
        {
          "output_type": "stream",
          "name": "stdout",
          "text": [
            "[7 2 1 0]\n",
            "[[0. 0. 0. 0. 0. 0. 0. 1. 0. 0.]\n",
            " [0. 0. 1. 0. 0. 0. 0. 0. 0. 0.]\n",
            " [0. 1. 0. 0. 0. 0. 0. 0. 0. 0.]\n",
            " [1. 0. 0. 0. 0. 0. 0. 0. 0. 0.]]\n"
          ]
        }
      ]
    },
    {
      "cell_type": "code",
      "source": [
        "model.save(\"model.h5\")"
      ],
      "metadata": {
        "id": "JIkRfJTiUuDW"
      },
      "execution_count": null,
      "outputs": []
    },
    {
      "cell_type": "code",
      "source": [
        "model=load_model(\"model.h5\")"
      ],
      "metadata": {
        "id": "Jcy15XcOUyjk"
      },
      "execution_count": null,
      "outputs": []
    },
    {
      "cell_type": "code",
      "source": [],
      "metadata": {
        "id": "LEXoFO6JU1Rm"
      },
      "execution_count": null,
      "outputs": []
    }
  ]
}