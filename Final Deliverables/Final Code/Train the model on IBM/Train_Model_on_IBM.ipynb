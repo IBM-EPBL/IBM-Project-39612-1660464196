{
  "nbformat": 4,
  "nbformat_minor": 0,
  "metadata": {
    "colab": {
      "provenance": []
    },
    "kernelspec": {
      "name": "python3",
      "display_name": "Python 3"
    },
    "language_info": {
      "name": "python"
    }
  },
  "cells": [
    {
      "cell_type": "code",
      "execution_count": null,
      "metadata": {
        "id": "-wBDQF_rmeh9"
      },
      "outputs": [],
      "source": [
        "import cv2\n",
        "import numpy as np\n",
        "from keras.datasets import mnist\n",
        "from keras.layers import Dense, Flatten, MaxPooling2D, Dropout\n",
        "from keras.layers.convolutional import Conv2D\n",
        "from keras.models import Sequential\n",
        "from tensorflow.keras.utils import to_categorical\n",
        "import matplotlib.pyplot as plt"
      ]
    },
    {
      "cell_type": "markdown",
      "source": [
        "Loading Data"
      ],
      "metadata": {
        "id": "peg13oHrm8sA"
      }
    },
    {
      "cell_type": "code",
      "source": [
        "(X_train, y_train), (X_test, y_test) = mnist.load_data()"
      ],
      "metadata": {
        "id": "kRDeONcxm_ZP"
      },
      "execution_count": null,
      "outputs": []
    },
    {
      "cell_type": "code",
      "source": [
        "plt.imshow(X_train[987], cmap=\"gray\")\n"
      ],
      "metadata": {
        "colab": {
          "base_uri": "https://localhost:8080/",
          "height": 282
        },
        "id": "zqkpjpfknBS7",
        "outputId": "cc063c8a-fead-41fc-cb94-05f04c596490"
      },
      "execution_count": null,
      "outputs": [
        {
          "output_type": "execute_result",
          "data": {
            "text/plain": [
              "<matplotlib.image.AxesImage at 0x7f4775e42710>"
            ]
          },
          "metadata": {},
          "execution_count": 4
        },
        {
          "output_type": "display_data",
          "data": {
            "text/plain": [
              "<Figure size 432x288 with 1 Axes>"
            ],
            "image/png": "[encoded data removed]"
          },
          "metadata": {
            "needs_background": "light"
          }
        }
      ]
    },
    {
      "cell_type": "code",
      "source": [
        "print (y_train[987])"
      ],
      "metadata": {
        "colab": {
          "base_uri": "https://localhost:8080/"
        },
        "id": "o_VxNO7_nEXT",
        "outputId": "009c3724-7cfa-4639-ac7c-d481b89fa44b"
      },
      "execution_count": null,
      "outputs": [
        {
          "output_type": "stream",
          "name": "stdout",
          "text": [
            "4\n"
          ]
        }
      ]
    },
    {
      "cell_type": "code",
      "source": [
        "print (\"Shape of X_train: {}\".format(X_train.shape))\n",
        "print (\"Shape of y_train: {}\".format(y_train.shape))\n",
        "print (\"Shape of X_test: {}\".format(X_test.shape))\n",
        "print (\"Shape of y_test: {}\".format(y_test.shape))"
      ],
      "metadata": {
        "colab": {
          "base_uri": "https://localhost:8080/"
        },
        "id": "GAoCL9SunM5E",
        "outputId": "a1dee92c-a9ce-4b44-efc6-c9702b6a0202"
      },
      "execution_count": null,
      "outputs": [
        {
          "output_type": "stream",
          "name": "stdout",
          "text": [
            "Shape of X_train: (60000, 28, 28)\n",
            "Shape of y_train: (60000,)\n",
            "Shape of X_test: (10000, 28, 28)\n",
            "Shape of y_test: (10000,)\n"
          ]
        }
      ]
    },
    {
      "cell_type": "markdown",
      "source": [
        "Reshaping "
      ],
      "metadata": {
        "id": "UyDt7XXmnbpr"
      }
    },
    {
      "cell_type": "code",
      "source": [
        "X_train = X_train.reshape(60000, 28, 28, 1)\n",
        "X_test = X_test.reshape(10000, 28, 28, 1)"
      ],
      "metadata": {
        "id": "fekgV9OVnRWi"
      },
      "execution_count": null,
      "outputs": []
    },
    {
      "cell_type": "code",
      "source": [
        "print (\"Shape of X_train: {}\".format(X_train.shape))\n",
        "print (\"Shape of y_train: {}\".format(y_train.shape))\n",
        "print (\"Shape of X_test: {}\".format(X_test.shape))\n",
        "print (\"Shape of y_test: {}\".format(y_test.shape))"
      ],
      "metadata": {
        "colab": {
          "base_uri": "https://localhost:8080/"
        },
        "id": "2ur5ls4hnk8M",
        "outputId": "7079d048-6a95-4824-cd2e-eabc88710810"
      },
      "execution_count": null,
      "outputs": [
        {
          "output_type": "stream",
          "name": "stdout",
          "text": [
            "Shape of X_train: (60000, 28, 28, 1)\n",
            "Shape of y_train: (60000,)\n",
            "Shape of X_test: (10000, 28, 28, 1)\n",
            "Shape of y_test: (10000,)\n"
          ]
        }
      ]
    },
    {
      "cell_type": "markdown",
      "source": [
        "one hot encoding"
      ],
      "metadata": {
        "id": "hmHVA37Knt1k"
      }
    },
    {
      "cell_type": "code",
      "source": [
        "y_train = to_categorical(y_train)\n",
        "y_test = to_categorical(y_test)"
      ],
      "metadata": {
        "id": "W4PdRGhbnqyj"
      },
      "execution_count": null,
      "outputs": []
    },
    {
      "cell_type": "code",
      "source": [
        "model = Sequential()"
      ],
      "metadata": {
        "id": "qye-LeOmnx5W"
      },
      "execution_count": null,
      "outputs": []
    },
    {
      "cell_type": "markdown",
      "source": [
        "Declare the layers"
      ],
      "metadata": {
        "id": "UKYdvZsBn3AB"
      }
    },
    {
      "cell_type": "code",
      "source": [
        "layer_1 = Conv2D(64, kernel_size=3, activation='relu', input_shape=(28, 28, 1))\n",
        "layer_2 = MaxPooling2D(pool_size=2)\n",
        "layer_3 = Conv2D(32, kernel_size=3, activation='relu')\n",
        "layer_4 = MaxPooling2D(pool_size=2)\n",
        "layer_5 = Dropout(0.5)\n",
        "layer_6 = Flatten()\n",
        "layer_7 = Dense(128, activation=\"relu\")\n",
        "layer_8 = Dropout(0.5)\n",
        "layer_9 = Dense(10, activation='softmax')"
      ],
      "metadata": {
        "id": "tEm4GYOYn0Ml"
      },
      "execution_count": null,
      "outputs": []
    },
    {
      "cell_type": "markdown",
      "source": [
        " Add the layers to the model"
      ],
      "metadata": {
        "id": "1N_XOJpKn-Gm"
      }
    },
    {
      "cell_type": "code",
      "source": [
        "model.add(layer_1)\n",
        "model.add(layer_2)\n",
        "model.add(layer_3)\n",
        "model.add(layer_4)\n",
        "model.add(layer_5)\n",
        "model.add(layer_6)\n",
        "model.add(layer_7)\n",
        "model.add(layer_8)\n",
        "model.add(layer_9)"
      ],
      "metadata": {
        "id": "wo-O1Vx-n7TS"
      },
      "execution_count": null,
      "outputs": []
    },
    {
      "cell_type": "code",
      "source": [
        "model.compile(optimizer='adam', loss='categorical_crossentropy', metrics=['accuracy'])"
      ],
      "metadata": {
        "id": "Wido0Z3eoCv1"
      },
      "execution_count": null,
      "outputs": []
    },
    {
      "cell_type": "code",
      "source": [
        "model.fit(X_train, y_train, validation_data=(X_test, y_test), epochs=3)"
      ],
      "metadata": {
        "colab": {
          "base_uri": "https://localhost:8080/"
        },
        "id": "mFjow-GXoIok",
        "outputId": "fc80b327-307b-4550-fa42-926a95bc5381"
      },
      "execution_count": null,
      "outputs": [
        {
          "output_type": "stream",
          "name": "stdout",
          "text": [
            "Epoch 1/3\n",
            "1875/1875 [==============================] - 87s 45ms/step - loss: 0.9379 - accuracy: 0.7689 - val_loss: 0.1324 - val_accuracy: 0.9644\n",
            "Epoch 2/3\n",
            "1875/1875 [==============================] - 87s 46ms/step - loss: 0.2928 - accuracy: 0.9136 - val_loss: 0.0910 - val_accuracy: 0.9738\n",
            "Epoch 3/3\n",
            "1875/1875 [==============================] - 87s 46ms/step - loss: 0.2184 - accuracy: 0.9356 - val_loss: 0.0640 - val_accuracy: 0.9793\n"
          ]
        },
        {
          "output_type": "execute_result",
          "data": {
            "text/plain": [
              "<keras.callbacks.History at 0x7f4771b471d0>"
            ]
          },
          "metadata": {},
          "execution_count": 15
        }
      ]
    },
    {
      "cell_type": "code",
      "source": [],
      "metadata": {
        "id": "YFrJiHogoLW9"
      },
      "execution_count": null,
      "outputs": []
    }
  ]
}